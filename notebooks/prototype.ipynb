{
 "cells": [
  {
   "cell_type": "code",
   "execution_count": 1,
   "id": "f0abf3eb-66d5-4237-8a6b-5c35a39ffc60",
   "metadata": {},
   "outputs": [],
   "source": [
    "# to start development with reinforcement learning\n",
    "from gym import Env\n",
    "import gym.spaces import Discreate,Box\n",
    "import numpy as np\n",
    "import rando"
   ]
  },
  {
   "cell_type": "code",
   "execution_count": null,
   "id": "353ffca5-ac2e-42b2-a59a-b1a4cd019fc8",
   "metadata": {},
   "outputs": [],
   "source": []
  },
  {
   "cell_type": "code",
   "execution_count": null,
   "id": "9b302148-9451-43c8-8150-83dfc57046c5",
   "metadata": {},
   "outputs": [],
   "source": []
  }
 ],
 "metadata": {
  "kernelspec": {
   "display_name": "Python 3 (ipykernel)",
   "language": "python",
   "name": "python3"
  },
  "language_info": {
   "codemirror_mode": {
    "name": "ipython",
    "version": 3
   },
   "file_extension": ".py",
   "mimetype": "text/x-python",
   "name": "python",
   "nbconvert_exporter": "python",
   "pygments_lexer": "ipython3",
   "version": "3.10.13"
  }
 },
 "nbformat": 4,
 "nbformat_minor": 5
}
5
}
